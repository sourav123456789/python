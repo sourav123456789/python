{
 "cells": [
  {
   "cell_type": "markdown",
   "id": "73030db1",
   "metadata": {},
   "source": [
    "### This is a basic python project"
   ]
  },
  {
   "cell_type": "code",
   "execution_count": 1,
   "id": "b3d6c5d0",
   "metadata": {},
   "outputs": [
    {
     "name": "stdout",
     "output_type": "stream",
     "text": [
      "This is a basic python project\n"
     ]
    }
   ],
   "source": [
    "print(\"This is a basic python project\")"
   ]
  },
  {
   "cell_type": "code",
   "execution_count": null,
   "id": "bf9844af",
   "metadata": {},
   "outputs": [],
   "source": []
  },
  {
   "cell_type": "markdown",
   "id": "a0edd466",
   "metadata": {},
   "source": [
    "### This is the loop of python"
   ]
  },
  {
   "cell_type": "code",
   "execution_count": 5,
   "id": "c3afdf31",
   "metadata": {},
   "outputs": [
    {
     "name": "stdout",
     "output_type": "stream",
     "text": [
      "1\n",
      "3\n",
      "5\n",
      "7\n",
      "9\n"
     ]
    }
   ],
   "source": [
    "for i in range(1 , 10 , 2 ):\n",
    "    print(i)"
   ]
  },
  {
   "cell_type": "code",
   "execution_count": 8,
   "id": "fde522dd",
   "metadata": {},
   "outputs": [
    {
     "name": "stdout",
     "output_type": "stream",
     "text": [
      "s\n",
      "o\n",
      "u\n",
      "r\n",
      "a\n",
      "v\n",
      "p\n",
      "a\n",
      "n\n",
      "i\n",
      "g\n",
      "r\n",
      "a\n",
      "h\n",
      "i\n"
     ]
    }
   ],
   "source": [
    "str = \"sourav panigrahi\"\n",
    "for i in str:\n",
    "    if(i != \" \"):\n",
    "        print(i)"
   ]
  },
  {
   "cell_type": "code",
   "execution_count": 11,
   "id": "83ab693b",
   "metadata": {},
   "outputs": [
    {
     "name": "stdout",
     "output_type": "stream",
     "text": [
      "iharginapvaruos\n"
     ]
    }
   ],
   "source": [
    "str = \"sourav panigrahi\"\n",
    "ans = \"\"\n",
    "\n",
    "for i in range(len(str) - 1 , -1 , -1):\n",
    "    if(str[i] != \" \"):\n",
    "        ans = ans + str[i]\n",
    "\n",
    "print(ans)"
   ]
  },
  {
   "cell_type": "code",
   "execution_count": 17,
   "id": "535a9525",
   "metadata": {},
   "outputs": [
    {
     "name": "stdout",
     "output_type": "stream",
     "text": [
      "[2, 3, 4, 5]\n",
      "1\n",
      "2\n",
      "3\n",
      "4\n",
      "5\n"
     ]
    }
   ],
   "source": [
    "list = [1 , 2 , 3 , 4 , 5]\n",
    "list.append(6)\n",
    "list.remove(6)\n",
    "print(list[1:])\n",
    "\n",
    "for no in list:\n",
    "    print(no)"
   ]
  },
  {
   "cell_type": "code",
   "execution_count": 19,
   "id": "c3b3559a",
   "metadata": {},
   "outputs": [
    {
     "name": "stdout",
     "output_type": "stream",
     "text": [
      "<class 'dict'>\n",
      "{'name': 'sourav', 'age': 25}\n"
     ]
    }
   ],
   "source": [
    "### dictionary in python\n",
    "dict = {}\n",
    "print(type(dict))\n",
    "dict[\"name\"] = \"sourav\" \n",
    "dict[\"age\"] = 25\n",
    "print(dict)"
   ]
  }
 ],
 "metadata": {
  "kernelspec": {
   "display_name": "Python 3",
   "language": "python",
   "name": "python3"
  },
  "language_info": {
   "codemirror_mode": {
    "name": "ipython",
    "version": 3
   },
   "file_extension": ".py",
   "mimetype": "text/x-python",
   "name": "python",
   "nbconvert_exporter": "python",
   "pygments_lexer": "ipython3",
   "version": "3.13.3"
  }
 },
 "nbformat": 4,
 "nbformat_minor": 5
}
