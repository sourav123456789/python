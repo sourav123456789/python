{
 "cells": [
  {
   "cell_type": "markdown",
   "id": "73030db1",
   "metadata": {},
   "source": [
    "### This is a basic python project"
   ]
  },
  {
   "cell_type": "code",
   "execution_count": 1,
   "id": "b3d6c5d0",
   "metadata": {},
   "outputs": [
    {
     "name": "stdout",
     "output_type": "stream",
     "text": [
      "This is a basic python project\n"
     ]
    }
   ],
   "source": [
    "print(\"This is a basic python project\")"
   ]
  }
 ],
 "metadata": {
  "kernelspec": {
   "display_name": "Python 3",
   "language": "python",
   "name": "python3"
  },
  "language_info": {
   "codemirror_mode": {
    "name": "ipython",
    "version": 3
   },
   "file_extension": ".py",
   "mimetype": "text/x-python",
   "name": "python",
   "nbconvert_exporter": "python",
   "pygments_lexer": "ipython3",
   "version": "3.13.3"
  }
 },
 "nbformat": 4,
 "nbformat_minor": 5
}
